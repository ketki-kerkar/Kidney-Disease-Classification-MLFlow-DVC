{
 "cells": [
  {
   "cell_type": "code",
   "execution_count": 2,
   "metadata": {},
   "outputs": [],
   "source": [
    "import os"
   ]
  },
  {
   "cell_type": "code",
   "execution_count": 3,
   "metadata": {},
   "outputs": [
    {
     "data": {
      "text/plain": [
       "'/home/ketaki/speProject/Kidney-Disease-Classification-MLFlow-DVC/research'"
      ]
     },
     "execution_count": 3,
     "metadata": {},
     "output_type": "execute_result"
    }
   ],
   "source": [
    "%pwd"
   ]
  },
  {
   "cell_type": "code",
   "execution_count": 4,
   "metadata": {},
   "outputs": [],
   "source": [
    "os.chdir(\"../\")"
   ]
  },
  {
   "cell_type": "code",
   "execution_count": 5,
   "metadata": {},
   "outputs": [],
   "source": [
    "from dataclasses import dataclass\n",
    "from pathlib import Path\n",
    "\n",
    "\n",
    "@dataclass(frozen=True)\n",
    "class DataIngestionConfig:\n",
    "    root_dir: Path\n",
    "    source_URL: str\n",
    "    local_data_file: Path\n",
    "    unzip_dir: Path"
   ]
  },
  {
   "cell_type": "code",
   "execution_count": 14,
   "metadata": {},
   "outputs": [],
   "source": [
    "from cnnClassifier.constants import *"
   ]
  },
  {
   "cell_type": "code",
   "execution_count": 17,
   "metadata": {},
   "outputs": [
    {
     "ename": "NameError",
     "evalue": "name 'CONFIG_FILE_PATH' is not defined",
     "output_type": "error",
     "traceback": [
      "\u001b[0;31m---------------------------------------------------------------------------\u001b[0m",
      "\u001b[0;31mNameError\u001b[0m                                 Traceback (most recent call last)",
      "\u001b[1;32m/home/ketaki/speProject/Kidney-Disease-Classification-MLFlow-DVC/research/01_data_ingestion.ipynb Cell 6\u001b[0m line \u001b[0;36m1\n\u001b[0;32m----> <a href='vscode-notebook-cell:/home/ketaki/speProject/Kidney-Disease-Classification-MLFlow-DVC/research/01_data_ingestion.ipynb#W5sZmlsZQ%3D%3D?line=0'>1</a>\u001b[0m \u001b[39mclass\u001b[39;00m \u001b[39mConfigurationManager\u001b[39;00m:\n\u001b[1;32m      <a href='vscode-notebook-cell:/home/ketaki/speProject/Kidney-Disease-Classification-MLFlow-DVC/research/01_data_ingestion.ipynb#W5sZmlsZQ%3D%3D?line=1'>2</a>\u001b[0m     \u001b[39mdef\u001b[39;00m \u001b[39m__init__\u001b[39m(\n\u001b[1;32m      <a href='vscode-notebook-cell:/home/ketaki/speProject/Kidney-Disease-Classification-MLFlow-DVC/research/01_data_ingestion.ipynb#W5sZmlsZQ%3D%3D?line=2'>3</a>\u001b[0m         \u001b[39mself\u001b[39m,\n\u001b[1;32m      <a href='vscode-notebook-cell:/home/ketaki/speProject/Kidney-Disease-Classification-MLFlow-DVC/research/01_data_ingestion.ipynb#W5sZmlsZQ%3D%3D?line=3'>4</a>\u001b[0m         config_filepath \u001b[39m=\u001b[39m CONFIG_FILE_PATH,\n\u001b[1;32m      <a href='vscode-notebook-cell:/home/ketaki/speProject/Kidney-Disease-Classification-MLFlow-DVC/research/01_data_ingestion.ipynb#W5sZmlsZQ%3D%3D?line=4'>5</a>\u001b[0m         params_filepath \u001b[39m=\u001b[39m PARAMS_FILE_PATH):\n\u001b[1;32m      <a href='vscode-notebook-cell:/home/ketaki/speProject/Kidney-Disease-Classification-MLFlow-DVC/research/01_data_ingestion.ipynb#W5sZmlsZQ%3D%3D?line=6'>7</a>\u001b[0m         \u001b[39mself\u001b[39m\u001b[39m.\u001b[39mconfig \u001b[39m=\u001b[39m read_yaml(config_filepath)\n",
      "\u001b[1;32m/home/ketaki/speProject/Kidney-Disease-Classification-MLFlow-DVC/research/01_data_ingestion.ipynb Cell 6\u001b[0m line \u001b[0;36m4\n\u001b[1;32m      <a href='vscode-notebook-cell:/home/ketaki/speProject/Kidney-Disease-Classification-MLFlow-DVC/research/01_data_ingestion.ipynb#W5sZmlsZQ%3D%3D?line=0'>1</a>\u001b[0m \u001b[39mclass\u001b[39;00m \u001b[39mConfigurationManager\u001b[39;00m:\n\u001b[1;32m      <a href='vscode-notebook-cell:/home/ketaki/speProject/Kidney-Disease-Classification-MLFlow-DVC/research/01_data_ingestion.ipynb#W5sZmlsZQ%3D%3D?line=1'>2</a>\u001b[0m     \u001b[39mdef\u001b[39;00m \u001b[39m__init__\u001b[39m(\n\u001b[1;32m      <a href='vscode-notebook-cell:/home/ketaki/speProject/Kidney-Disease-Classification-MLFlow-DVC/research/01_data_ingestion.ipynb#W5sZmlsZQ%3D%3D?line=2'>3</a>\u001b[0m         \u001b[39mself\u001b[39m,\n\u001b[0;32m----> <a href='vscode-notebook-cell:/home/ketaki/speProject/Kidney-Disease-Classification-MLFlow-DVC/research/01_data_ingestion.ipynb#W5sZmlsZQ%3D%3D?line=3'>4</a>\u001b[0m         config_filepath \u001b[39m=\u001b[39m CONFIG_FILE_PATH,\n\u001b[1;32m      <a href='vscode-notebook-cell:/home/ketaki/speProject/Kidney-Disease-Classification-MLFlow-DVC/research/01_data_ingestion.ipynb#W5sZmlsZQ%3D%3D?line=4'>5</a>\u001b[0m         params_filepath \u001b[39m=\u001b[39m PARAMS_FILE_PATH):\n\u001b[1;32m      <a href='vscode-notebook-cell:/home/ketaki/speProject/Kidney-Disease-Classification-MLFlow-DVC/research/01_data_ingestion.ipynb#W5sZmlsZQ%3D%3D?line=6'>7</a>\u001b[0m         \u001b[39mself\u001b[39m\u001b[39m.\u001b[39mconfig \u001b[39m=\u001b[39m read_yaml(config_filepath)\n\u001b[1;32m      <a href='vscode-notebook-cell:/home/ketaki/speProject/Kidney-Disease-Classification-MLFlow-DVC/research/01_data_ingestion.ipynb#W5sZmlsZQ%3D%3D?line=7'>8</a>\u001b[0m         \u001b[39mself\u001b[39m\u001b[39m.\u001b[39mparams \u001b[39m=\u001b[39m read_yaml(params_filepath)\n",
      "\u001b[0;31mNameError\u001b[0m: name 'CONFIG_FILE_PATH' is not defined"
     ]
    }
   ],
   "source": [
    "class ConfigurationManager:\n",
    "    def __init__(\n",
    "        self,\n",
    "        config_filepath = CONFIG_FILE_PATH,\n",
    "        params_filepath = PARAMS_FILE_PATH):\n",
    "\n",
    "        self.config = read_yaml(config_filepath)\n",
    "        self.params = read_yaml(params_filepath)\n",
    "\n",
    "        create_directories([self.config.artifacts_root])\n",
    "\n",
    "\n",
    "    \n",
    "    def get_data_ingestion_config(self) -> DataIngestionConfig:\n",
    "        config = self.config.data_ingestion\n",
    "\n",
    "        create_directories([config.root_dir])\n",
    "\n",
    "        data_ingestion_config = DataIngestionConfig(\n",
    "            root_dir=config.root_dir,\n",
    "            source_URL=config.source_URL,\n",
    "            local_data_file=config.local_data_file,\n",
    "            unzip_dir=config.unzip_dir \n",
    "        )\n",
    "\n",
    "        return data_ingestion_config"
   ]
  },
  {
   "cell_type": "code",
   "execution_count": 11,
   "metadata": {},
   "outputs": [],
   "source": [
    "import os\n",
    "import zipfile\n",
    "import gdown\n",
    "from cnnClassifier import logger\n",
    "from cnnClassifier.utils.common import get_size"
   ]
  },
  {
   "cell_type": "code",
   "execution_count": null,
   "metadata": {},
   "outputs": [],
   "source": [
    "class DataIngestion:\n",
    "    def __init__(self, config: DataIngestionConfig):\n",
    "        self.config = config\n",
    "\n",
    "    \n",
    "    def download_file(self)-> str:\n",
    "        '''\n",
    "        Fetch data from the url\n",
    "        '''\n",
    "\n",
    "        try: \n",
    "            dataset_url = self.config.source_URL\n",
    "            zip_download_dir = self.config.local_data_file\n",
    "            os.makedirs(\"artifacts/data_ingestion\", exist_ok=True)\n",
    "            logger.info(f\"Downloading data from {dataset_url} into file {zip_download_dir}\")\n",
    "\n",
    "            file_id = dataset_url.split(\"/\")[-2]\n",
    "            prefix = 'https://drive.google.com/uc?/export=download&id='\n",
    "            gdown.download(prefix+file_id,zip_download_dir)\n",
    "\n",
    "            logger.info(f\"Downloaded data from {dataset_url} into file {zip_download_dir}\")\n",
    "\n",
    "        except Exception as e:\n",
    "            raise e\n",
    "        \n",
    "    \n",
    "\n",
    "    def extract_zip_file(self):\n",
    "        \"\"\"\n",
    "        zip_file_path: str\n",
    "        Extracts the zip file into the data directory\n",
    "        Function returns None\n",
    "        \"\"\"\n",
    "        unzip_path = self.config.unzip_dir\n",
    "        os.makedirs(unzip_path, exist_ok=True)\n",
    "        with zipfile.ZipFile(self.config.local_data_file, 'r') as zip_ref:\n",
    "            zip_ref.extractall(unzip_path)"
   ]
  },
  {
   "cell_type": "code",
   "execution_count": null,
   "metadata": {},
   "outputs": [],
   "source": [
    "try:\n",
    "    config = ConfigurationManager()\n",
    "    data_ingestion_config = config.get_data_ingestion_config()\n",
    "    data_ingestion = DataIngestion(config=data_ingestion_config)\n",
    "    data_ingestion.download_file()\n",
    "    data_ingestion.extract_zip_file()\n",
    "except Exception as e:\n",
    "    raise "
   ]
  }
 ],
 "metadata": {
  "kernelspec": {
   "display_name": "Python 3",
   "language": "python",
   "name": "python3"
  },
  "language_info": {
   "codemirror_mode": {
    "name": "ipython",
    "version": 3
   },
   "file_extension": ".py",
   "mimetype": "text/x-python",
   "name": "python",
   "nbconvert_exporter": "python",
   "pygments_lexer": "ipython3",
   "version": "3.8.19"
  }
 },
 "nbformat": 4,
 "nbformat_minor": 2
}
